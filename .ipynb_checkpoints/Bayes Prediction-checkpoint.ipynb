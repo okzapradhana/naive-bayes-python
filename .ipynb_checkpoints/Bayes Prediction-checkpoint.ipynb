{
 "cells": [
  {
   "cell_type": "code",
   "execution_count": 1,
   "metadata": {},
   "outputs": [],
   "source": [
    "e = 2.718\n",
    "dataset = [\n",
    "    [9, 'kayu bakar', 'ubin', 3, 'sedang'],\n",
    "    [10, 'gas LPG', 'ubin', 2, 'sedang'],\n",
    "    [15, 'gas LPG', 'plester', 2, 'sedang'],\n",
    "    [30, 'gas LPG', 'ubin', 4, 'kaya'],\n",
    "    [16, 'kompor listrik', 'ubin', 3, 'kaya'],\n",
    "    [25, 'gas LPG', 'ubin', 5, 'kaya'],\n",
    "    [9, 'gas LPG', 'plester', 0.5, 'miskin'],\n",
    "    [8, 'kayu bakar', 'tanah', 1, 'miskin'],\n",
    "    [10, 'kayu bakar', 'tanah', 2, 'miskin'],\n",
    "    [14, 'gas LPG', 'tanah', 1, 'miskin']\n",
    "]"
   ]
  },
  {
   "cell_type": "code",
   "execution_count": 2,
   "metadata": {},
   "outputs": [
    {
     "name": "stdout",
     "output_type": "stream",
     "text": [
      "[[9, 'kayu bakar', 'ubin', 3, 'sedang'], [10, 'gas LPG', 'ubin', 2, 'sedang'], [15, 'gas LPG', 'plester', 2, 'sedang'], [30, 'gas LPG', 'ubin', 4, 'kaya'], [16, 'kompor listrik', 'ubin', 3, 'kaya'], [25, 'gas LPG', 'ubin', 5, 'kaya'], [9, 'gas LPG', 'plester', 0.5, 'miskin'], [8, 'kayu bakar', 'tanah', 1, 'miskin'], [10, 'kayu bakar', 'tanah', 2, 'miskin'], [14, 'gas LPG', 'tanah', 1, 'miskin']]\n"
     ]
    }
   ],
   "source": [
    "print (dataset)"
   ]
  },
  {
   "cell_type": "code",
   "execution_count": 9,
   "metadata": {},
   "outputs": [],
   "source": [
    "#Calculate for discrete data\n",
    "def bayesDiskritBahanBakar(dataDiskrit, kategori):\n",
    "    jumlahDataDiskrit = 0\n",
    "    arrayFilterKategori = filterArrayKategori(kategori)\n",
    "    #print(arrayFilterKategori)\n",
    "    jumlahElemenHasilFilterKategori = len(arrayFilterKategori)\n",
    "    for i in arrayFilterKategori:\n",
    "        if i[1] == dataDiskrit:\n",
    "            jumlahDataDiskrit += 1\n",
    "            #print('Jumlah bahan bakar :' , jumlahDataDiskrit)\n",
    "    return jumlahDataDiskrit / jumlahElemenHasilFilterKategori\n",
    "    \n",
    "        \n",
    "def bayesDiskritLantai(dataDiskrit, kategori):\n",
    "    jumlahDataDiskrit = 0\n",
    "    arrayFilterKategori = filterArrayKategori(kategori)\n",
    "    jumlahElemenHasilFilterKategori = len(arrayFilterKategori)\n",
    "    for i in arrayFilterKategori:\n",
    "        if i[-3] == dataDiskrit:\n",
    "            jumlahDataDiskrit += 1\n",
    "            #print('Jumlah lantai :' , jumlahDataDiskrit)\n",
    "    return jumlahDataDiskrit / jumlahElemenHasilFilterKategori"
   ]
  },
  {
   "cell_type": "code",
   "execution_count": 10,
   "metadata": {},
   "outputs": [
    {
     "data": {
      "text/plain": [
       "[[9, 'kayu bakar', 'ubin', 3, 'sedang'],\n",
       " [10, 'gas LPG', 'ubin', 2, 'sedang'],\n",
       " [15, 'gas LPG', 'plester', 2, 'sedang']]"
      ]
     },
     "execution_count": 10,
     "metadata": {},
     "output_type": "execute_result"
    }
   ],
   "source": [
    "#Filter array based on kategori\n",
    "def filterArrayKategori(kategori):\n",
    "    arrayFilter = []\n",
    "    for i in dataset:\n",
    "        if i[-1] == kategori:\n",
    "            arrayFilter.append(i)\n",
    "    return arrayFilter\n",
    "filterArrayKategori('sedang')"
   ]
  },
  {
   "cell_type": "code",
   "execution_count": null,
   "metadata": {},
   "outputs": [],
   "source": []
  },
  {
   "cell_type": "code",
   "execution_count": 11,
   "metadata": {},
   "outputs": [
    {
     "data": {
      "text/plain": [
       "0.3"
      ]
     },
     "execution_count": 11,
     "metadata": {},
     "output_type": "execute_result"
    }
   ],
   "source": [
    "#Calculate Prior for each kategori\n",
    "def prior(kategori):\n",
    "    #print(len(dataset))\n",
    "    countKategori = 0\n",
    "    for i in dataset:\n",
    "        #print(i)\n",
    "        if(i[-1]) == kategori:\n",
    "            countKategori+=1\n",
    "    #print(countKategori/len(dataset))\n",
    "    return countKategori/len(dataset)\n",
    "prior('sedang')"
   ]
  },
  {
   "cell_type": "code",
   "execution_count": 12,
   "metadata": {},
   "outputs": [
    {
     "data": {
      "text/plain": [
       "23.666666666666668"
      ]
     },
     "execution_count": 12,
     "metadata": {},
     "output_type": "execute_result"
    }
   ],
   "source": [
    "#Calculate Average\n",
    "def averageOrang(kategori):\n",
    "    sumOrang = 0\n",
    "    arrayKategori = filterArrayKategori(kategori)\n",
    "    for i in arrayKategori:\n",
    "        #print(i[0])\n",
    "        sumOrang += i[0]\n",
    "    avgOrang = sumOrang / len(arrayKategori)\n",
    "    #print(avgOrang)\n",
    "    return avgOrang\n",
    "\n",
    "def averageDaging(kategori):\n",
    "    sumDaging = 0\n",
    "    arrayKategori = filterArrayKategori(kategori)\n",
    "    for i in arrayKategori:\n",
    "        sumDaging += i[-2]\n",
    "    avgDaging = sumDaging / len(arrayKategori)\n",
    "    #print(avgDaging)\n",
    "    return avgDaging\n",
    "    \n",
    "averageOrang('kaya')"
   ]
  },
  {
   "cell_type": "code",
   "execution_count": 13,
   "metadata": {},
   "outputs": [
    {
     "data": {
      "text/plain": [
       "10.333333333333332"
      ]
     },
     "execution_count": 13,
     "metadata": {},
     "output_type": "execute_result"
    }
   ],
   "source": [
    "#Calculate Varians\n",
    "def variansOrang(kategori):\n",
    "    variansOrang = 0\n",
    "    hasilPenguranganDenganRataRata = 0\n",
    "    arrayKategori = filterArrayKategori(kategori)\n",
    "    #print(arrayKategori)\n",
    "    for i in arrayKategori:\n",
    "        #print(i[0])\n",
    "        #print(len(arrayKategori))\n",
    "        hasilPenguranganDenganRataRata += ((i[0] - averageOrang(kategori))**2)\n",
    "        variansOrang = hasilPenguranganDenganRataRata / (len(arrayKategori) - 1)\n",
    "        #print(averageOrang(kategori))\n",
    "        #print(variansOrang)\n",
    "    #print('Varians Orang: ', variansOrang)\n",
    "    return variansOrang\n",
    "\n",
    "def variansDaging(kategori):\n",
    "    variansDaging = 0\n",
    "    hasilPenguranganDenganRataRata = 0\n",
    "    arrayKategori = filterArrayKategori(kategori)\n",
    "    #print(arrayKategori)\n",
    "    for i in arrayKategori:\n",
    "        #print(i[-2])\n",
    "        #print(len(arrayKategori))\n",
    "        hasilPenguranganDenganRataRata += ((i[-2] - averageDaging(kategori))**2)\n",
    "        variansDaging = hasilPenguranganDenganRataRata / (len(arrayKategori) - 1)\n",
    "    #print('Varians Daging: ', variansDaging)\n",
    "    return variansDaging\n",
    "\n",
    "variansOrang('sedang')\n"
   ]
  },
  {
   "cell_type": "code",
   "execution_count": 14,
   "metadata": {},
   "outputs": [
    {
     "data": {
      "text/plain": [
       "-0.021505376344085985"
      ]
     },
     "execution_count": 14,
     "metadata": {},
     "output_type": "execute_result"
    }
   ],
   "source": [
    "#Exponent pow (pangkat) from Normal Distribution Formula\n",
    "def eksponenOrang(dataKontinu, kategori):\n",
    "    return -1*(((dataKontinu - averageOrang(kategori))**2)/ (2*variansOrang(kategori)))\n",
    "\n",
    "def eksponenDaging(dataKontinu, kategori):\n",
    "    return -1*(((dataKontinu - averageDaging(kategori))**2)/ (2*variansDaging(kategori)))\n",
    "\n",
    "eksponenOrang(12, 'sedang')"
   ]
  },
  {
   "cell_type": "code",
   "execution_count": 15,
   "metadata": {},
   "outputs": [
    {
     "name": "stdout",
     "output_type": "stream",
     "text": [
      "0.401010546577375\n"
     ]
    },
    {
     "data": {
      "text/plain": [
       "0.014552744127037472"
      ]
     },
     "execution_count": 15,
     "metadata": {},
     "output_type": "execute_result"
    }
   ],
   "source": [
    "#Calculate likelihood\n",
    "def likelihoodOrang(dataKontinu, kategori):\n",
    "    return (1 / ((2*(3.14)*variansOrang(kategori))**(1/2))) * (e**(eksponenOrang(dataKontinu, kategori)))\n",
    "\n",
    "def likelihoodDaging(dataKontinu, kategori):\n",
    "    return (1 / ((2*(3.14)*variansDaging(kategori))**(1/2))) * (e**(eksponenDaging(dataKontinu, kategori)))\n",
    "\n",
    "print(1/(2.4937))\n",
    "likelihoodOrang(12,'kaya')"
   ]
  },
  {
   "cell_type": "code",
   "execution_count": 16,
   "metadata": {},
   "outputs": [],
   "source": [
    "#Calculate the posterior for each category\n",
    "def calculatePosterior(orangPerBangunan, bahanBakar, jenisLantai, dagingPerMinggu):\n",
    "    peluangKaya = likelihoodOrang(int(orangPerBangunan), 'kaya') * bayesDiskritBahanBakar(bahanBakar, 'kaya') * bayesDiskritLantai(jenisLantai, 'kaya') * likelihoodDaging(int(dagingPerMinggu), 'kaya') * prior('kaya')\n",
    "    peluangSedang = likelihoodOrang(int(orangPerBangunan), 'sedang') * bayesDiskritBahanBakar(bahanBakar, 'sedang') * bayesDiskritLantai(jenisLantai, 'sedang') * likelihoodDaging(int(dagingPerMinggu), 'sedang') * prior('sedang') \n",
    "    peluangMiskin = likelihoodOrang(int(orangPerBangunan), 'miskin') * bayesDiskritBahanBakar(bahanBakar, 'miskin') * bayesDiskritLantai(jenisLantai, 'miskin') * likelihoodDaging(int(dagingPerMinggu), 'miskin') * prior('miskin')\n",
    "\n",
    "    arrayUntukMembandingkan = [peluangKaya, peluangSedang, peluangMiskin]\n",
    "    decideTheCategory(arrayUntukMembandingkan)\n",
    "    \n",
    "#Deciding the Category based on the biggest posterior value and Append the data input to latest dataset\n",
    "def decideTheCategory(arrayUntukMembandingkan):\n",
    "    category = ''\n",
    "    for i in range(len(arrayUntukMembandingkan)):\n",
    "        if(max(arrayUntukMembandingkan) == arrayUntukMembandingkan[i]):\n",
    "            if i == 0:\n",
    "                category = 'kaya'\n",
    "            elif i == 1:\n",
    "                category = 'sedang'\n",
    "            elif i == 2:\n",
    "                category = 'miskin'\n",
    "        #print(arrayUntukMembandingkan[i])\n",
    "        #if(arrayUntukMembandingkan[i] > arrayUntukMembandingkan[i++]):\n",
    "    newArray = [ int(orangPerBangunan), bahanBakar, jenisLantai, int(dagingPerMinggu), category ]\n",
    "    dataset.append(newArray)\n",
    "    print (category)\n",
    "    printLatestDataset(dataset)\n",
    "    \n",
    "\n",
    "def printLatestDataset(dataset):\n",
    "    print(dataset)"
   ]
  },
  {
   "cell_type": "code",
   "execution_count": 17,
   "metadata": {},
   "outputs": [
    {
     "name": "stdout",
     "output_type": "stream",
     "text": [
      "Banyak orang: 12\n",
      "Bahan bakar: kayu bakar\n",
      "Jenis Lantai: plester\n",
      "Makan daging per minggu: 2\n",
      "sedang\n",
      "[[9, 'kayu bakar', 'ubin', 3, 'sedang'], [10, 'gas LPG', 'ubin', 2, 'sedang'], [15, 'gas LPG', 'plester', 2, 'sedang'], [30, 'gas LPG', 'ubin', 4, 'kaya'], [16, 'kompor listrik', 'ubin', 3, 'kaya'], [25, 'gas LPG', 'ubin', 5, 'kaya'], [9, 'gas LPG', 'plester', 0.5, 'miskin'], [8, 'kayu bakar', 'tanah', 1, 'miskin'], [10, 'kayu bakar', 'tanah', 2, 'miskin'], [14, 'gas LPG', 'tanah', 1, 'miskin'], [12, 'kayu bakar', 'plester', 2, 'sedang']]\n"
     ]
    }
   ],
   "source": [
    "#Input new data testing\n",
    "orangPerBangunan = input('Banyak orang: ')\n",
    "bahanBakar = input('Bahan bakar: ')\n",
    "jenisLantai = input('Jenis Lantai: ')\n",
    "dagingPerMinggu = input('Makan daging per minggu: ')\n",
    "calculatePosterior(orangPerBangunan, bahanBakar, jenisLantai, dagingPerMinggu)"
   ]
  },
  {
   "cell_type": "code",
   "execution_count": null,
   "metadata": {},
   "outputs": [],
   "source": []
  }
 ],
 "metadata": {
  "kernelspec": {
   "display_name": "Python 3",
   "language": "python",
   "name": "python3"
  },
  "language_info": {
   "codemirror_mode": {
    "name": "ipython",
    "version": 3
   },
   "file_extension": ".py",
   "mimetype": "text/x-python",
   "name": "python",
   "nbconvert_exporter": "python",
   "pygments_lexer": "ipython3",
   "version": "3.6.5"
  }
 },
 "nbformat": 4,
 "nbformat_minor": 2
}
